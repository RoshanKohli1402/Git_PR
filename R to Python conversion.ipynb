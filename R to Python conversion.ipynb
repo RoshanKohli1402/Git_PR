{
 "cells": [
  {
   "cell_type": "code",
   "execution_count": null,
   "metadata": {},
   "outputs": [
    {
     "name": "stdout",
     "output_type": "stream",
     "text": [
      "  yummy convenient spicy fattening greasy fast cheap tasty expensive healthy  \\\n",
      "0    No        Yes    No       Yes     No  Yes   Yes    No       Yes      No   \n",
      "1   Yes        Yes    No       Yes    Yes  Yes   Yes   Yes       Yes      No   \n",
      "2    No        Yes   Yes       Yes    Yes  Yes    No   Yes       Yes     Yes   \n",
      "3   Yes        Yes    No       Yes    Yes  Yes   Yes   Yes        No      No   \n",
      "4    No        Yes    No       Yes    Yes  Yes   Yes    No        No     Yes   \n",
      "\n",
      "  disgusting Like  Age      VisitFrequency  Gender  \n",
      "0         No   -3   61  Every three months  Female  \n",
      "1         No   +2   51  Every three months  Female  \n",
      "2         No   +1   62  Every three months  Female  \n",
      "3        Yes   +4   69         Once a week  Female  \n",
      "4         No   +2   49        Once a month    Male  \n"
     ]
    }
   ],
   "source": [
    "import pandas as pd\n",
    "import numpy as np\n",
    "import matplotlib.pyplot as plt\n",
    "from sklearn.mixture import GaussianMixture\n",
    "from sklearn.cluster import KMeans\n",
    "from sklearn.utils import resample\n",
    "from sklearn.decomposition import PCA\n",
    "import seaborn as sns\n",
    "# Load the dataset into a DataFrame\n",
    "import pandas as pd\n",
    "\n",
    "# Replace 'path_to_your_file.csv' with the actual path to your CSV file\n",
    "mcdonalds = pd.read_csv(\"C:\\\\Users\\\\LOQ\\\\OneDrive - Gyan Ganga Institute of Technology and Science\\\\Desktop\\\\mcdonalds.csv\")\n",
    "\n",
    "# Verify the data is loaded correctly\n",
    "print(mcdonalds.head())"
   ]
  },
  {
   "cell_type": "code",
   "execution_count": null,
   "metadata": {},
   "outputs": [],
   "source": [
    "# 1. Creating a Numeric Variable for 'Like'\n",
    "# Convert 'Like' column to numeric and transform values, then view counts of transformed values\n",
    "mcdonalds['Like_n'] = 6 - pd.to_numeric(mcdonalds['Like'])\n",
    "print(mcdonalds['Like_n'].value_counts())"
   ]
  },
  {
   "cell_type": "code",
   "execution_count": null,
   "metadata": {},
   "outputs": [],
   "source": [
    "\n",
    "# 2. Constructing a Formula for Regression (Placeholder for use in modeling)\n",
    "# Combine first 11 columns as features for a regression formula\n",
    "features = '+'.join(mcdonalds.columns[:11])\n",
    "formula = f'Like_n ~ {features}'"
   ]
  },
  {
   "cell_type": "code",
   "execution_count": null,
   "metadata": {},
   "outputs": [],
   "source": [
    "# 3. Fitting a Regression Model Using Finite Mixtures (Gaussian Mixture as a stand-in for flexible modeling)\n",
    "# Perform Gaussian Mixture Modeling on the first 11 columns of data\n",
    "np.random.seed(1234)\n",
    "gmm = GaussianMixture(n_components=2, n_init=10, random_state=1234)\n",
    "gmm.fit(mcdonalds.iloc[:, :11])"
   ]
  },
  {
   "cell_type": "code",
   "execution_count": null,
   "metadata": {},
   "outputs": [],
   "source": [
    "# 4. Global Stability Analysis Using Bootstrap for k-Means\n",
    "# Function to bootstrap k-means clustering and calculate inertia\n",
    "def bootstrap_kmeans(data, clusters, nrep=10, nboot=100):\n",
    "    results = []\n",
    "    for _ in range(nboot):\n",
    "        sample = resample(data)\n",
    "        km = KMeans(n_clusters=clusters, n_init=nrep, random_state=1234)\n",
    "        km.fit(sample)\n",
    "        results.append(km.inertia_)\n",
    "    return results\n",
    "\n",
    "# Perform bootstrap for stability analysis\n",
    "stability_results = bootstrap_kmeans(mcdonalds.iloc[:, :11], clusters=2)"
   ]
  },
  {
   "cell_type": "code",
   "execution_count": null,
   "metadata": {},
   "outputs": [],
   "source": [
    "\n",
    "# 5. Fitting k-Means for Clustering and Plotting Inertia for Different Segment Counts\n",
    "# Test clustering with different numbers of segments (clusters) and plot inertia (within-cluster sum of squares)\n",
    "inertia_values = []\n",
    "for i in range(2, 9):\n",
    "    kmeans = KMeans(n_clusters=i, n_init=10, random_state=1234)\n",
    "    kmeans.fit(mcdonalds.iloc[:, :11])\n",
    "    inertia_values.append(kmeans.inertia_)\n",
    "\n",
    "plt.plot(range(2, 9), inertia_values)\n",
    "plt.xlabel(\"Number of segments\")\n",
    "plt.ylabel(\"Inertia\")\n",
    "plt.show()"
   ]
  },
  {
   "cell_type": "code",
   "execution_count": null,
   "metadata": {},
   "outputs": [],
   "source": [
    "#Convert categorical data in first 11 columns to binary indicators\n",
    "MD_x = (mcdonalds.iloc[:, :11] == \"Yes\").astype(int).values"
   ]
  },
  {
   "cell_type": "code",
   "execution_count": null,
   "metadata": {},
   "outputs": [],
   "source": [
    "# 7. Box-and-Whisker Plot for Age Distribution (Example Plot for Visualization)\n",
    "# Assuming 'Age' is a column in the data\n",
    "plt.boxplot(mcdonalds['Age'], vert=False)\n",
    "plt.xlabel(\"Age\")\n",
    "plt.show()"
   ]
  },
  {
   "cell_type": "code",
   "execution_count": null,
   "metadata": {},
   "outputs": [],
   "source": [
    "# 8. Dot Chart of Percentages for \"YES\" Answers (Binary Representation)\n",
    "# Calculate percentage of 'Yes' responses in columns 13-32, and plot as a dot chart\n",
    "yes = 100 * mcdonalds.iloc[:, 12:32].apply(lambda col: (col == \"yes\").mean())\n",
    "yes_sorted = yes.sort_values()\n",
    "\n",
    "plt.plot(yes_sorted.values, range(len(yes_sorted)), 'o')\n",
    "plt.xlabel(\"Percent 'yes'\")\n",
    "plt.xlim(0, 100)\n",
    "plt.yticks(range(len(yes_sorted)), yes_sorted.index)\n",
    "plt.show()\n"
   ]
  },
  {
   "cell_type": "code",
   "execution_count": null,
   "metadata": {},
   "outputs": [],
   "source": [
    "# 9. Principal Component Analysis (PCA) Plot for Segmentation\n",
    "pca = PCA(n_components=2)\n",
    "transformed_data = pca.fit_transform(mcdonalds.iloc[:, :11])\n",
    "\n",
    "plt.scatter(transformed_data[:, 0], transformed_data[:, 1])\n",
    "plt.xlabel(\"Principal Component 2\")\n",
    "plt.ylabel(\"Principal Component 3\")\n",
    "plt.title(\"PCA Plot for Segmentation\")\n",
    "plt.show()\n"
   ]
  },
  {
   "cell_type": "code",
   "execution_count": null,
   "metadata": {},
   "outputs": [],
   "source": [
    "# 10. Histogram of Age by Segment\n",
    "segments = mcdonalds['Segment'].unique()\n",
    "for seg in segments:\n",
    "    subset = mcdonalds[mcdonalds['Segment'] == seg]['Age']\n",
    "    plt.hist(subset, bins=10, alpha=0.5, label=f\"Segment {seg}\")\n",
    "plt.xlabel(\"Age\")\n",
    "plt.ylabel(\"Frequency\")\n",
    "plt.legend()\n",
    "plt.show()"
   ]
  },
  {
   "cell_type": "code",
   "execution_count": null,
   "metadata": {},
   "outputs": [],
   "source": [
    "# 11. Parallel Box-and-Whisker Plot for Age by Segment\n",
    "sns.boxplot(x=\"Segment\", y=\"Age\", data=mcdonalds)\n",
    "plt.xlabel(\"Segment number\")\n",
    "plt.ylabel(\"Age\")\n",
    "plt.show()\n"
   ]
  }
 ],
 "metadata": {
  "language_info": {
   "name": "python"
  }
 },
 "nbformat": 4,
 "nbformat_minor": 2
}
